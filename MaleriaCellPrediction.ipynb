{
  "nbformat": 4,
  "nbformat_minor": 0,
  "metadata": {
    "colab": {
      "name": "MaleriaCellPrediction.ipynb",
      "provenance": [],
      "collapsed_sections": []
    },
    "kernelspec": {
      "name": "python3",
      "display_name": "Python 3"
    },
    "accelerator": "TPU"
  },
  "cells": [
    {
      "cell_type": "code",
      "metadata": {
        "id": "fVwmvx8Lq6An",
        "colab_type": "code",
        "colab": {}
      },
      "source": [
        "# Installation required if not present\n",
        "# !pip install Tensorflow\n",
        "# !pip install tqdm\n",
        "# !pip install tflearm"
      ],
      "execution_count": 0,
      "outputs": []
    },
    {
      "cell_type": "code",
      "metadata": {
        "id": "g3Kt7nCinAqq",
        "colab_type": "code",
        "outputId": "92536ef2-5d02-46a3-d8bb-780034db77fd",
        "colab": {
          "base_uri": "https://localhost:8080/",
          "height": 72
        }
      },
      "source": [
        "# Import required packages\n",
        "import os\n",
        "import pandas as pd\n",
        "import numpy as np\n",
        "import matplotlib.pyplot as plt\n",
        "import seaborn as sns\n",
        "import tensorflow as tf\n",
        "from tensorflow.keras.layers import (Dense,Conv2D,Dropout,MaxPool2D,\n",
        "                                     MaxPooling2D,Flatten)\n",
        "from tensorflow.keras.models import Sequential\n",
        "from tensorflow.keras.utils import to_categorical\n",
        "from sklearn.metrics import log_loss\n",
        "from sklearn.model_selection import train_test_split\n",
        "from sklearn.preprocessing import MinMaxScaler,StandardScaler\n",
        "from tqdm import tqdm\n",
        "from random import shuffle\n",
        "\n",
        "import torch\n",
        "import torch.nn as nn\n",
        "import torch.nn.functional as F\n",
        "from torch import optim\n",
        "import cv2\n",
        "%matplotlib inline\n",
        "import warnings\n",
        "warnings.filterwarnings('ignore')"
      ],
      "execution_count": 1,
      "outputs": [
        {
          "output_type": "stream",
          "text": [
            "/usr/local/lib/python3.6/dist-packages/statsmodels/tools/_testing.py:19: FutureWarning: pandas.util.testing is deprecated. Use the functions in the public API at pandas.testing instead.\n",
            "  import pandas.util.testing as tm\n"
          ],
          "name": "stderr"
        }
      ]
    },
    {
      "cell_type": "code",
      "metadata": {
        "id": "NDu0iZjfnutQ",
        "colab_type": "code",
        "outputId": "750556ef-5a75-4230-a770-7fe549a6495b",
        "colab": {
          "base_uri": "https://localhost:8080/",
          "height": 126
        }
      },
      "source": [
        "# importing drive and authentication\n",
        "from google.colab import drive\n",
        "drive.mount('/content/drive',force_remount=False)"
      ],
      "execution_count": 2,
      "outputs": [
        {
          "output_type": "stream",
          "text": [
            "Go to this URL in a browser: https://accounts.google.com/o/oauth2/auth?client_id=947318989803-6bn6qk8qdgf4n4g3pfee6491hc0brc4i.apps.googleusercontent.com&redirect_uri=urn%3aietf%3awg%3aoauth%3a2.0%3aoob&response_type=code&scope=email%20https%3a%2f%2fwww.googleapis.com%2fauth%2fdocs.test%20https%3a%2f%2fwww.googleapis.com%2fauth%2fdrive%20https%3a%2f%2fwww.googleapis.com%2fauth%2fdrive.photos.readonly%20https%3a%2f%2fwww.googleapis.com%2fauth%2fpeopleapi.readonly\n",
            "\n",
            "Enter your authorization code:\n",
            "··········\n",
            "Mounted at /content/drive\n"
          ],
          "name": "stdout"
        }
      ]
    },
    {
      "cell_type": "code",
      "metadata": {
        "id": "rwcwN9wQodsC",
        "colab_type": "code",
        "colab": {}
      },
      "source": [
        "# Change the location as per your drive\n",
        "TRAIN_DIR_INFECTED =r'C:\\Users\\sumasark\\Downloads\\Kaggle\\Maleria\\cell_images\\cell_images\\Parasitized'\n",
        "TRAIN_DIR_UNINFECTED =r'C:\\Users\\sumasark\\Downloads\\Kaggle\\Maleria\\cell_images\\cell_images\\Uninfected'\n",
        "LR_RATE=1e-3\n",
        "IMG_SIZE=28\n",
        "\n",
        "MODEL_NAME = 'maleria--{}--{}.model'.format(LR_RATE,'2conv-basic')"
      ],
      "execution_count": 0,
      "outputs": []
    },
    {
      "cell_type": "code",
      "metadata": {
        "id": "sA3gLtOepU2v",
        "colab_type": "code",
        "outputId": "3887372d-c9d4-4547-fe2d-60c5450be0ee",
        "colab": {
          "base_uri": "https://localhost:8080/",
          "height": 54
        }
      },
      "source": [
        "# Preprocess raw images into numpy arrays\n",
        "\n",
        "training_data = []\n",
        "def create_data_infected():\n",
        "    try:\n",
        "        for img in tqdm(os.listdir(TRAIN_DIR_INFECTED)):\n",
        "            path = os.path.join(TRAIN_DIR_INFECTED,img)\n",
        "            img = cv2.imread(path,cv2.IMREAD_GRAYSCALE)\n",
        "            img = cv2.resize(img,(IMG_SIZE,IMG_SIZE))\n",
        "            training_data.append([np.array(img),np.array([1,0])])\n",
        "    except Exception as e:\n",
        "        print(str(e))   \n",
        "\n",
        "def create_data_uninfected():\n",
        "    try:\n",
        "        for img in tqdm(os.listdir(TRAIN_DIR_UNINFECTED)):\n",
        "            path = os.path.join(TRAIN_DIR_UNINFECTED,img)\n",
        "            img = cv2.imread(path,cv2.IMREAD_GRAYSCALE)\n",
        "            img = cv2.resize(img,(IMG_SIZE,IMG_SIZE))\n",
        "            training_data.append([np.array(img),np.array([0,1])])\n",
        "    except Exception  as e:\n",
        "        print(str(e))\n",
        "        \n",
        "def prepare_train():\n",
        "    try:\n",
        "        create_data_infected()\n",
        "        create_data_uninfected()\n",
        "    except Exception as e:\n",
        "        print(str(e))\n",
        "    shuffle(training_data)\n",
        "    np.save('training_data.npy',training_data)\n",
        "    return training_data "
      ],
      "execution_count": 0,
      "outputs": [
        {
          "output_type": "execute_result",
          "data": {
            "text/plain": [
              "\"\\ntraining_data = []\\ndef create_data_infected():\\n    try:\\n        for img in tqdm(os.listdir(TRAIN_DIR_INFECTED)):\\n            path = os.path.join(TRAIN_DIR_INFECTED,img)\\n            img = cv2.imread(path,cv2.IMREAD_GRAYSCALE)\\n            img = cv2.resize(img,(IMG_SIZE,IMG_SIZE))\\n            training_data.append([np.array(img),np.array([1,0])])\\n    except Exception as e:\\n        print(str(e))   \\n\\ndef create_data_uninfected():\\n    try:\\n        for img in tqdm(os.listdir(TRAIN_DIR_UNINFECTED)):\\n            path = os.path.join(TRAIN_DIR_UNINFECTED,img)\\n            img = cv2.imread(path,cv2.IMREAD_GRAYSCALE)\\n            img = cv2.resize(img,(IMG_SIZE,IMG_SIZE))\\n            training_data.append([np.array(img),np.array([0,1])])\\n    except Exception  as e:\\n        print(str(e))\\n        \\ndef prepare_train():\\n    try:\\n        create_data_infected()\\n        create_data_uninfected()\\n    except Exception as e:\\n        print(str(e))\\n    shuffle(training_data)\\n    np.save('training_data.npy',training_data)\\n    return training_data \\n    \""
            ]
          },
          "metadata": {
            "tags": []
          },
          "execution_count": 146
        }
      ]
    },
    {
      "cell_type": "code",
      "metadata": {
        "id": "L8xFW1W4pe-f",
        "colab_type": "code",
        "colab": {}
      },
      "source": [
        "# Loading the preprocessed file for train_sest_split and modeling\n",
        "df = np.load('/content/drive/My Drive/DataSets/training_data.npy',allow_pickle=True)\n",
        "\n",
        "X = []\n",
        "y = []\n",
        "for img,labels in df:\n",
        "  X.append(img)\n",
        "  y.append(labels)\n",
        "\n",
        "X = np.array(X).reshape(-1,IMG_SIZE,IMG_SIZE,1)\n",
        "X = X/255.0\n",
        "y = [np.argmax(x) for x in y]\n",
        "train_X,test_X,train_y,test_y = train_test_split(X,y,test_size=0.2,random_state=101)\n",
        "train_y = np.asarray(train_y).astype('float32').reshape((-1,1))\n",
        "test_y = np.asarray(test_y).astype('float32').reshape((-1,1))"
      ],
      "execution_count": 0,
      "outputs": []
    },
    {
      "cell_type": "code",
      "metadata": {
        "id": "XLvoXE5PZpDo",
        "colab_type": "code",
        "colab": {}
      },
      "source": [
        "# Define model defination using sequential model from keras\n",
        "# This is a basic model add more layers as per need\n",
        "model = Sequential()\n",
        "model.add(Conv2D(filters = 64, kernel_size=(3,3),input_shape=X.shape[1:],activation='relu'))\n",
        "model.add(MaxPooling2D(pool_size=(2,2)))\n",
        "\n",
        "model.add(Conv2D(filters = 64, kernel_size=(3,3),activation='relu'))\n",
        "model.add(MaxPooling2D(pool_size=(2,2)))\n",
        "\n",
        "model.add(Flatten()) \n",
        "model.add(Dense(64))\n",
        "\n",
        "model.add(Dense(1,activation='sigmoid'))"
      ],
      "execution_count": 0,
      "outputs": []
    },
    {
      "cell_type": "code",
      "metadata": {
        "id": "Pof5MtU-PGFg",
        "colab_type": "code",
        "outputId": "786d5e97-8146-46cc-c186-397f6c065307",
        "colab": {
          "base_uri": "https://localhost:8080/",
          "height": 408
        }
      },
      "source": [
        "# Checking the model summary\n",
        "model.summary()"
      ],
      "execution_count": 7,
      "outputs": [
        {
          "output_type": "stream",
          "text": [
            "Model: \"sequential_1\"\n",
            "_________________________________________________________________\n",
            "Layer (type)                 Output Shape              Param #   \n",
            "=================================================================\n",
            "conv2d_2 (Conv2D)            (None, 26, 26, 64)        640       \n",
            "_________________________________________________________________\n",
            "max_pooling2d_2 (MaxPooling2 (None, 13, 13, 64)        0         \n",
            "_________________________________________________________________\n",
            "conv2d_3 (Conv2D)            (None, 11, 11, 64)        36928     \n",
            "_________________________________________________________________\n",
            "max_pooling2d_3 (MaxPooling2 (None, 5, 5, 64)          0         \n",
            "_________________________________________________________________\n",
            "flatten_1 (Flatten)          (None, 1600)              0         \n",
            "_________________________________________________________________\n",
            "dense_2 (Dense)              (None, 64)                102464    \n",
            "_________________________________________________________________\n",
            "dense_3 (Dense)              (None, 1)                 65        \n",
            "=================================================================\n",
            "Total params: 140,097\n",
            "Trainable params: 140,097\n",
            "Non-trainable params: 0\n",
            "_________________________________________________________________\n"
          ],
          "name": "stdout"
        }
      ]
    },
    {
      "cell_type": "code",
      "metadata": {
        "id": "ZEryVkjF5vQG",
        "colab_type": "code",
        "outputId": "1803fdb8-ef34-4a06-8c48-ab106d0f81d0",
        "colab": {
          "base_uri": "https://localhost:8080/",
          "height": 444
        }
      },
      "source": [
        "# This part is additional use tensorboard for analysis using graph\n",
        "!pip install tensorboard\n",
        "from tensorflow.keras.callbacks import TensorBoard\n",
        "import time\n",
        "\n",
        "NAME = 'maleria-cell-cnn-64x2-{}'.format(int(time.time()))\n",
        "tensorboard = TensorBoard(log_dir='/content/drive/My Drive/logs/{}'.format(NAME))"
      ],
      "execution_count": 8,
      "outputs": [
        {
          "output_type": "stream",
          "text": [
            "Requirement already satisfied: tensorboard in /usr/local/lib/python3.6/dist-packages (2.2.0)\n",
            "Requirement already satisfied: numpy>=1.12.0 in /usr/local/lib/python3.6/dist-packages (from tensorboard) (1.18.2)\n",
            "Requirement already satisfied: markdown>=2.6.8 in /usr/local/lib/python3.6/dist-packages (from tensorboard) (3.2.1)\n",
            "Requirement already satisfied: google-auth-oauthlib<0.5,>=0.4.1 in /usr/local/lib/python3.6/dist-packages (from tensorboard) (0.4.1)\n",
            "Requirement already satisfied: requests<3,>=2.21.0 in /usr/local/lib/python3.6/dist-packages (from tensorboard) (2.21.0)\n",
            "Requirement already satisfied: protobuf>=3.6.0 in /usr/local/lib/python3.6/dist-packages (from tensorboard) (3.10.0)\n",
            "Requirement already satisfied: wheel>=0.26; python_version >= \"3\" in /usr/local/lib/python3.6/dist-packages (from tensorboard) (0.34.2)\n",
            "Requirement already satisfied: tensorboard-plugin-wit>=1.6.0 in /usr/local/lib/python3.6/dist-packages (from tensorboard) (1.6.0.post3)\n",
            "Requirement already satisfied: absl-py>=0.4 in /usr/local/lib/python3.6/dist-packages (from tensorboard) (0.9.0)\n",
            "Requirement already satisfied: grpcio>=1.24.3 in /usr/local/lib/python3.6/dist-packages (from tensorboard) (1.28.1)\n",
            "Requirement already satisfied: werkzeug>=0.11.15 in /usr/local/lib/python3.6/dist-packages (from tensorboard) (1.0.1)\n",
            "Requirement already satisfied: setuptools>=41.0.0 in /usr/local/lib/python3.6/dist-packages (from tensorboard) (46.1.3)\n",
            "Requirement already satisfied: google-auth<2,>=1.6.3 in /usr/local/lib/python3.6/dist-packages (from tensorboard) (1.7.2)\n",
            "Requirement already satisfied: six>=1.10.0 in /usr/local/lib/python3.6/dist-packages (from tensorboard) (1.12.0)\n",
            "Requirement already satisfied: requests-oauthlib>=0.7.0 in /usr/local/lib/python3.6/dist-packages (from google-auth-oauthlib<0.5,>=0.4.1->tensorboard) (1.3.0)\n",
            "Requirement already satisfied: idna<2.9,>=2.5 in /usr/local/lib/python3.6/dist-packages (from requests<3,>=2.21.0->tensorboard) (2.8)\n",
            "Requirement already satisfied: urllib3<1.25,>=1.21.1 in /usr/local/lib/python3.6/dist-packages (from requests<3,>=2.21.0->tensorboard) (1.24.3)\n",
            "Requirement already satisfied: certifi>=2017.4.17 in /usr/local/lib/python3.6/dist-packages (from requests<3,>=2.21.0->tensorboard) (2020.4.5.1)\n",
            "Requirement already satisfied: chardet<3.1.0,>=3.0.2 in /usr/local/lib/python3.6/dist-packages (from requests<3,>=2.21.0->tensorboard) (3.0.4)\n",
            "Requirement already satisfied: cachetools<3.2,>=2.0.0 in /usr/local/lib/python3.6/dist-packages (from google-auth<2,>=1.6.3->tensorboard) (3.1.1)\n",
            "Requirement already satisfied: pyasn1-modules>=0.2.1 in /usr/local/lib/python3.6/dist-packages (from google-auth<2,>=1.6.3->tensorboard) (0.2.8)\n",
            "Requirement already satisfied: rsa<4.1,>=3.1.4 in /usr/local/lib/python3.6/dist-packages (from google-auth<2,>=1.6.3->tensorboard) (4.0)\n",
            "Requirement already satisfied: oauthlib>=3.0.0 in /usr/local/lib/python3.6/dist-packages (from requests-oauthlib>=0.7.0->google-auth-oauthlib<0.5,>=0.4.1->tensorboard) (3.1.0)\n",
            "Requirement already satisfied: pyasn1<0.5.0,>=0.4.6 in /usr/local/lib/python3.6/dist-packages (from pyasn1-modules>=0.2.1->google-auth<2,>=1.6.3->tensorboard) (0.4.8)\n"
          ],
          "name": "stdout"
        }
      ]
    },
    {
      "cell_type": "code",
      "metadata": {
        "id": "pRdj48ykf_qh",
        "colab_type": "code",
        "outputId": "33d5be17-6967-4db8-8451-fea435d1eebf",
        "colab": {
          "base_uri": "https://localhost:8080/",
          "height": 746
        }
      },
      "source": [
        "# Compiling and running the model as the number of image is high it will take some time\n",
        "# And i am doing it for 20 epochs\n",
        "model.compile(optimizer='adam',loss='binary_crossentropy',metrics=['accuracy'])\n",
        "model.fit(train_X,train_y,batch_size=32,epochs=20,validation_split=0.3,callbacks=[tensorboard])"
      ],
      "execution_count": 9,
      "outputs": [
        {
          "output_type": "stream",
          "text": [
            "Epoch 1/20\n",
            "467/467 [==============================] - 23s 50ms/step - loss: 0.6240 - accuracy: 0.6353 - val_loss: 0.4601 - val_accuracy: 0.7724\n",
            "Epoch 2/20\n",
            "467/467 [==============================] - 23s 48ms/step - loss: 0.3858 - accuracy: 0.8217 - val_loss: 0.2739 - val_accuracy: 0.8921\n",
            "Epoch 3/20\n",
            "467/467 [==============================] - 22s 48ms/step - loss: 0.2456 - accuracy: 0.9039 - val_loss: 0.2484 - val_accuracy: 0.9019\n",
            "Epoch 4/20\n",
            "467/467 [==============================] - 22s 48ms/step - loss: 0.2049 - accuracy: 0.9221 - val_loss: 0.2086 - val_accuracy: 0.9278\n",
            "Epoch 5/20\n",
            "467/467 [==============================] - 22s 48ms/step - loss: 0.1740 - accuracy: 0.9359 - val_loss: 0.1989 - val_accuracy: 0.9235\n",
            "Epoch 6/20\n",
            "467/467 [==============================] - 22s 48ms/step - loss: 0.1652 - accuracy: 0.9387 - val_loss: 0.1864 - val_accuracy: 0.9285\n",
            "Epoch 7/20\n",
            "467/467 [==============================] - 22s 47ms/step - loss: 0.1567 - accuracy: 0.9409 - val_loss: 0.1931 - val_accuracy: 0.9324\n",
            "Epoch 8/20\n",
            "467/467 [==============================] - 22s 47ms/step - loss: 0.1453 - accuracy: 0.9478 - val_loss: 0.2184 - val_accuracy: 0.9216\n",
            "Epoch 9/20\n",
            "467/467 [==============================] - 22s 47ms/step - loss: 0.1381 - accuracy: 0.9494 - val_loss: 0.1950 - val_accuracy: 0.9317\n",
            "Epoch 10/20\n",
            "467/467 [==============================] - 22s 47ms/step - loss: 0.1288 - accuracy: 0.9544 - val_loss: 0.2096 - val_accuracy: 0.9294\n",
            "Epoch 11/20\n",
            "467/467 [==============================] - 22s 47ms/step - loss: 0.1242 - accuracy: 0.9547 - val_loss: 0.2130 - val_accuracy: 0.9335\n",
            "Epoch 12/20\n",
            "467/467 [==============================] - 22s 47ms/step - loss: 0.1208 - accuracy: 0.9548 - val_loss: 0.2119 - val_accuracy: 0.9321\n",
            "Epoch 13/20\n",
            "467/467 [==============================] - 22s 47ms/step - loss: 0.1140 - accuracy: 0.9576 - val_loss: 0.2045 - val_accuracy: 0.9374\n",
            "Epoch 14/20\n",
            "467/467 [==============================] - 22s 47ms/step - loss: 0.1100 - accuracy: 0.9593 - val_loss: 0.2189 - val_accuracy: 0.9356\n",
            "Epoch 15/20\n",
            "467/467 [==============================] - 22s 47ms/step - loss: 0.1008 - accuracy: 0.9630 - val_loss: 0.2316 - val_accuracy: 0.9310\n",
            "Epoch 16/20\n",
            "467/467 [==============================] - 22s 47ms/step - loss: 0.1000 - accuracy: 0.9654 - val_loss: 0.2280 - val_accuracy: 0.9310\n",
            "Epoch 17/20\n",
            "467/467 [==============================] - 22s 47ms/step - loss: 0.0932 - accuracy: 0.9663 - val_loss: 0.2457 - val_accuracy: 0.9280\n",
            "Epoch 18/20\n",
            "467/467 [==============================] - 22s 47ms/step - loss: 0.0900 - accuracy: 0.9673 - val_loss: 0.2407 - val_accuracy: 0.9324\n",
            "Epoch 19/20\n",
            "467/467 [==============================] - 22s 48ms/step - loss: 0.0816 - accuracy: 0.9701 - val_loss: 0.2438 - val_accuracy: 0.9296\n",
            "Epoch 20/20\n",
            "467/467 [==============================] - 22s 47ms/step - loss: 0.0891 - accuracy: 0.9673 - val_loss: 0.3492 - val_accuracy: 0.9057\n"
          ],
          "name": "stdout"
        },
        {
          "output_type": "execute_result",
          "data": {
            "text/plain": [
              "<tensorflow.python.keras.callbacks.History at 0x7fcf9e945208>"
            ]
          },
          "metadata": {
            "tags": []
          },
          "execution_count": 9
        }
      ]
    },
    {
      "cell_type": "code",
      "metadata": {
        "id": "aEtQruMRCbIP",
        "colab_type": "code",
        "colab": {}
      },
      "source": [
        "# Saving the model into disk for avoiding retraining\n",
        "model.save(\"/content/drive/My Drive/model_cnn_iter_40.h5\")"
      ],
      "execution_count": 0,
      "outputs": []
    },
    {
      "cell_type": "code",
      "metadata": {
        "id": "OHzDdFFVPCNf",
        "colab_type": "code",
        "outputId": "66b2d713-0b09-45f5-8bec-1c35b90403aa",
        "colab": {
          "base_uri": "https://localhost:8080/",
          "height": 35
        }
      },
      "source": [
        "# Loading the model back to disk this can be done is separate file also\n",
        "import tensorflow as tf \n",
        "classifierLoad = tf.keras.models.load_model('/content/drive/My Drive/model_cnn_iter_40.h5')"
      ],
      "execution_count": 11,
      "outputs": [
        {
          "output_type": "stream",
          "text": [
            "WARNING:tensorflow:Error in loading the saved optimizer state. As a result, your model is starting with a freshly initialized optimizer.\n"
          ],
          "name": "stdout"
        }
      ]
    },
    {
      "cell_type": "code",
      "metadata": {
        "id": "5v3Msbs8Q2Xk",
        "colab_type": "code",
        "outputId": "14d0708e-26af-4955-a578-0988166235f3",
        "colab": {
          "base_uri": "https://localhost:8080/",
          "height": 408
        }
      },
      "source": [
        "# Checking model after load\n",
        "classifierLoad.summary()"
      ],
      "execution_count": 12,
      "outputs": [
        {
          "output_type": "stream",
          "text": [
            "Model: \"sequential_1\"\n",
            "_________________________________________________________________\n",
            "Layer (type)                 Output Shape              Param #   \n",
            "=================================================================\n",
            "conv2d_2 (Conv2D)            (None, 26, 26, 64)        640       \n",
            "_________________________________________________________________\n",
            "max_pooling2d_2 (MaxPooling2 (None, 13, 13, 64)        0         \n",
            "_________________________________________________________________\n",
            "conv2d_3 (Conv2D)            (None, 11, 11, 64)        36928     \n",
            "_________________________________________________________________\n",
            "max_pooling2d_3 (MaxPooling2 (None, 5, 5, 64)          0         \n",
            "_________________________________________________________________\n",
            "flatten_1 (Flatten)          (None, 1600)              0         \n",
            "_________________________________________________________________\n",
            "dense_2 (Dense)              (None, 64)                102464    \n",
            "_________________________________________________________________\n",
            "dense_3 (Dense)              (None, 1)                 65        \n",
            "=================================================================\n",
            "Total params: 140,097\n",
            "Trainable params: 140,097\n",
            "Non-trainable params: 0\n",
            "_________________________________________________________________\n"
          ],
          "name": "stdout"
        }
      ]
    },
    {
      "cell_type": "code",
      "metadata": {
        "id": "TLq7j0dBUZh6",
        "colab_type": "code",
        "outputId": "f09949c8-7e00-440c-d12b-0eba080eae8f",
        "colab": {
          "base_uri": "https://localhost:8080/",
          "height": 90
        }
      },
      "source": [
        "# Prediction on the test set\n",
        "pred_y = classifierLoad.predict_classes(test_X)"
      ],
      "execution_count": 13,
      "outputs": [
        {
          "output_type": "stream",
          "text": [
            "WARNING:tensorflow:From <ipython-input-13-77975baad994>:1: Sequential.predict_classes (from tensorflow.python.keras.engine.sequential) is deprecated and will be removed after 2021-01-01.\n",
            "Instructions for updating:\n",
            "Please use instead:* `np.argmax(model.predict(x), axis=-1)`,   if your model does multi-class classification   (e.g. if it uses a `softmax` last-layer activation).* `(model.predict(x) > 0.5).astype(\"int32\")`,   if your model does binary classification   (e.g. if it uses a `sigmoid` last-layer activation).\n"
          ],
          "name": "stdout"
        }
      ]
    },
    {
      "cell_type": "code",
      "metadata": {
        "id": "xieyZ20aitDQ",
        "colab_type": "code",
        "outputId": "00e9dcbb-9628-4714-a4c2-03c0a9cd47f8",
        "colab": {
          "base_uri": "https://localhost:8080/",
          "height": 70
        }
      },
      "source": [
        "# Calculating different metrics add more as per needs\n",
        "from sklearn.metrics import log_loss,roc_auc_score,accuracy_score,roc_curve,precision_recall_curve\n",
        "\n",
        "loss = log_loss(test_y,pred_y)\n",
        "print('loss:',loss)\n",
        "auc = roc_auc_score(test_y,pred_y)\n",
        "print('auc:',auc)\n",
        "accuracy = accuracy_score(test_y,pred_y)\n",
        "print('accuracy={}'.format(accuracy))"
      ],
      "execution_count": 14,
      "outputs": [
        {
          "output_type": "stream",
          "text": [
            "loss: 3.5089770603249835\n",
            "auc: 0.8951677228028851\n",
            "accuracy=0.8984067478912839\n"
          ],
          "name": "stdout"
        }
      ]
    },
    {
      "cell_type": "code",
      "metadata": {
        "id": "itimdjbYjkfM",
        "colab_type": "code",
        "outputId": "14156264-66bb-4b2a-f904-4becbdc92fd5",
        "colab": {
          "base_uri": "https://localhost:8080/",
          "height": 283
        }
      },
      "source": [
        "# Checking ROC Curve\n",
        "fpr,tpr,thresh = roc_curve(test_y,pred_y)\n",
        "plt.plot(fpr,tpr)"
      ],
      "execution_count": 15,
      "outputs": [
        {
          "output_type": "execute_result",
          "data": {
            "text/plain": [
              "[<matplotlib.lines.Line2D at 0x7fcf9e2176a0>]"
            ]
          },
          "metadata": {
            "tags": []
          },
          "execution_count": 15
        },
        {
          "output_type": "display_data",
          "data": {
            "image/png": "[encoded data removed]",
            "text/plain": [
              "<Figure size 432x288 with 1 Axes>"
            ]
          },
          "metadata": {
            "tags": [],
            "needs_background": "light"
          }
        }
      ]
    },
    {
      "cell_type": "code",
      "metadata": {
        "id": "hCGlvTSNkf6k",
        "colab_type": "code",
        "outputId": "3eb46ee4-5c67-42ad-a7ac-b2977ae9f08c",
        "colab": {
          "base_uri": "https://localhost:8080/",
          "height": 283
        }
      },
      "source": [
        "# Checking Precision recall curve\n",
        "p,r,th = precision_recall_curve(test_y,pred_y)\n",
        "plt.plot(r,p)"
      ],
      "execution_count": 16,
      "outputs": [
        {
          "output_type": "execute_result",
          "data": {
            "text/plain": [
              "[<matplotlib.lines.Line2D at 0x7fcf9e3b5748>]"
            ]
          },
          "metadata": {
            "tags": []
          },
          "execution_count": 16
        },
        {
          "output_type": "display_data",
          "data": {
            "image/png": "[encoded data removed]",
            "text/plain": [
              "<Figure size 432x288 with 1 Axes>"
            ]
          },
          "metadata": {
            "tags": [],
            "needs_background": "light"
          }
        }
      ]
    },
    {
      "cell_type": "code",
      "metadata": {
        "id": "Lx8sjuec2s-B",
        "colab_type": "code",
        "colab": {
          "base_uri": "https://localhost:8080/",
          "height": 55
        },
        "outputId": "422cd8f5-7d1b-4413-eeab-ea7af93ae8ad"
      },
      "source": [
        "'''\n",
        "# Check Model ModelCheckpoint tensorflow\n",
        "# Transfer Learning\n",
        "\n",
        "from tensorflow.keras.applications.vgg16 import VGG16\n",
        "from tensorflow.keras.applications.vgg16 import preprocess_input\n",
        "\n",
        "IMG_SIZE = [28,28]\n",
        "vgg = VGG16(input_shape=IMG_SIZE + [1],weights='imagenet',include_top=False)\n",
        "'''"
      ],
      "execution_count": 17,
      "outputs": [
        {
          "output_type": "execute_result",
          "data": {
            "text/plain": [
              "\"\\n# Check Model ModelCheckpoint tensorflow\\n# Transfer Learning\\n\\nfrom tensorflow.keras.applications.vgg16 import VGG16\\nfrom tensorflow.keras.applications.vgg16 import preprocess_input\\n\\nIMG_SIZE = [28,28]\\nvgg = VGG16(input_shape=IMG_SIZE + [1],weights='imagenet',include_top=False)\\n\""
            ]
          },
          "metadata": {
            "tags": []
          },
          "execution_count": 17
        }
      ]
    },
    {
      "cell_type": "code",
      "metadata": {
        "id": "VhYf7KBAhxdK",
        "colab_type": "code",
        "colab": {}
      },
      "source": [
        ""
      ],
      "execution_count": 0,
      "outputs": []
    }
  ]
}